{
 "cells": [
  {
   "cell_type": "markdown",
   "metadata": {},
   "source": [
    "# Problem 1: Aminer: basic data analysis\n",
    "\n",
    "### reading from the file"
   ]
  },
  {
   "cell_type": "code",
   "execution_count": 23,
   "metadata": {},
   "outputs": [],
   "source": [
    "#Initial set up\n",
    "authors = set()\n",
    "venues = set()\n",
    "publication = set()\n",
    "citation = set()\n",
    "index = \"\""
   ]
  },
  {
   "cell_type": "code",
   "execution_count": 44,
   "metadata": {},
   "outputs": [
    {
     "ename": "AttributeError",
     "evalue": "'list' object has no attribute 'update'",
     "output_type": "error",
     "traceback": [
      "\u001b[1;31m---------------------------------------------------------------------------\u001b[0m",
      "\u001b[1;31mAttributeError\u001b[0m                            Traceback (most recent call last)",
      "\u001b[1;32m~\\AppData\\Local\\Temp/ipykernel_4656/3843521178.py\u001b[0m in \u001b[0;36m<module>\u001b[1;34m\u001b[0m\n\u001b[0;32m      6\u001b[0m         \u001b[1;32melif\u001b[0m \u001b[0mline\u001b[0m\u001b[1;33m.\u001b[0m\u001b[0mstartswith\u001b[0m\u001b[1;33m(\u001b[0m\u001b[1;34m\"#@\"\u001b[0m\u001b[1;33m)\u001b[0m\u001b[1;33m:\u001b[0m\u001b[1;33m\u001b[0m\u001b[1;33m\u001b[0m\u001b[0m\n\u001b[0;32m      7\u001b[0m             \u001b[1;32mfor\u001b[0m \u001b[0mauth\u001b[0m \u001b[1;32min\u001b[0m \u001b[0mline\u001b[0m\u001b[1;33m[\u001b[0m\u001b[1;36m2\u001b[0m\u001b[1;33m:\u001b[0m\u001b[1;33m]\u001b[0m\u001b[1;33m.\u001b[0m\u001b[0msplit\u001b[0m\u001b[1;33m(\u001b[0m\u001b[1;34m\";\"\u001b[0m\u001b[1;33m)\u001b[0m\u001b[1;33m:\u001b[0m\u001b[1;33m\u001b[0m\u001b[1;33m\u001b[0m\u001b[0m\n\u001b[1;32m----> 8\u001b[1;33m                 \u001b[0mauthors\u001b[0m\u001b[1;33m.\u001b[0m\u001b[0mupdate\u001b[0m\u001b[1;33m(\u001b[0m\u001b[0mauth\u001b[0m\u001b[1;33m.\u001b[0m\u001b[0mstrip\u001b[0m\u001b[1;33m(\u001b[0m\u001b[1;33m)\u001b[0m\u001b[1;33m)\u001b[0m\u001b[1;33m\u001b[0m\u001b[1;33m\u001b[0m\u001b[0m\n\u001b[0m\u001b[0;32m      9\u001b[0m         \u001b[1;32melif\u001b[0m \u001b[0mline\u001b[0m\u001b[1;33m.\u001b[0m\u001b[0mstartswith\u001b[0m\u001b[1;33m(\u001b[0m\u001b[1;34m\"#c\"\u001b[0m\u001b[1;33m)\u001b[0m\u001b[1;33m:\u001b[0m\u001b[1;33m\u001b[0m\u001b[1;33m\u001b[0m\u001b[0m\n\u001b[0;32m     10\u001b[0m             \u001b[0mvenues\u001b[0m\u001b[1;33m.\u001b[0m\u001b[0mupdate\u001b[0m\u001b[1;33m(\u001b[0m\u001b[0mline\u001b[0m\u001b[1;33m)\u001b[0m\u001b[1;33m\u001b[0m\u001b[1;33m\u001b[0m\u001b[0m\n",
      "\u001b[1;31mAttributeError\u001b[0m: 'list' object has no attribute 'update'"
     ]
    }
   ],
   "source": [
    "with open(file = \"./acm.v9/acm.txt\",mode= \"r+\",newline='', encoding=\"utf8\") as file:\n",
    "    for line in file:\n",
    "        if line.startswith(\"#index\"):\n",
    "            index = line[6:]\n",
    "            publication.update(line)\n",
    "        elif line.startswith(\"#@\"):\n",
    "            for auth in line[2:].split(\";\"):\n",
    "                authors.update(auth.strip())\n",
    "        elif line.startswith(\"#c\"):\n",
    "            venues.update(line)\n",
    "        elif line.startswith(\"#%\"):\n",
    "            citation.update(index+line)"
   ]
  },
  {
   "cell_type": "markdown",
   "metadata": {},
   "source": [
    "### A. Compute the number of distinct authors, publication venues, publications, and citations/references"
   ]
  },
  {
   "cell_type": "code",
   "execution_count": 25,
   "metadata": {},
   "outputs": [
    {
     "name": "stdout",
     "output_type": "stream",
     "text": [
      "Total number of Distinct Authors :- 377\n",
      "Total number of Venues:- 156\n",
      "Total number of Publications:- 17\n",
      "Total number of Citations/Referenes:- 13\n"
     ]
    }
   ],
   "source": [
    "print(\"Total number of Distinct Authors :-\" , len(authors))\n",
    "print(\"Total number of Venues:-\" , len(venues))\n",
    "print(\"Total number of Publications:-\" , len(publication))\n",
    "print(\"Total number of Citations/Referenes:-\" , len(citation))"
   ]
  },
  {
   "cell_type": "markdown",
   "metadata": {},
   "source": [
    "### B. Are these numbers likely to be accurate? As an example look up all the publications venue names associated with the conference “Principles and Practice of Knowledge Discovery in Databases”13 – what do you notice?"
   ]
  },
  {
   "cell_type": "code",
   "execution_count": 31,
   "metadata": {},
   "outputs": [
    {
     "name": "stdout",
     "output_type": "stream",
     "text": [
      "Venue lists are \n",
      "PKDD 2007 Proceedings of the 11th European conference on Principles and Practice of Knowledge Discovery in Databases\n",
      "\n",
      "Knowledge Discovery in Databases: PKDD 2005: 9th European Conference on Principles and Practice of Knowledge Discovery in Databases, Porto, Portugal, October ... / Lecture Notes in Artificial Intelligence)\n",
      "\n",
      "PKDD'05 Proceedings of the 9th European conference on Principles and Practice of Knowledge Discovery in Databases\n",
      "\n",
      "PKDD '04 Proceedings of the 8th European Conference on Principles and Practice of Knowledge Discovery in Databases\n",
      "\n",
      "Knowledge Discovery in Databases: PKDD 2006: 10th European Conference on Principles and Practice of Knowledge Discovery in Databases, Berlin, Germany, September ... (Lecture Notes in Computer Science)\n",
      "\n"
     ]
    }
   ],
   "source": [
    "venue_set = set()\n",
    "\n",
    "with open(file = \"./acm.v9/acm.txt\",mode=\"r+\",newline=\"\",encoding=\"utf8\") as file2:\n",
    "    # index = \"\"\n",
    "    venue = \"\"\n",
    "    for row in file2:\n",
    "        if row.startswith(\"#c\"):\n",
    "            if \"Principles and Practice of Knowledge Discovery in Databases\" in row:\n",
    "                venue = row[2:]\n",
    "                venue_set.add(venue)\n",
    "\n",
    "print(\"Venue lists are \")\n",
    "for venue in venue_set:\n",
    "    print(venue)\n"
   ]
  },
  {
   "cell_type": "markdown",
   "metadata": {},
   "source": [
    "Observation: On the basis of above results, the count numbers aren't accurate. We can see that venues have different name for different years of publication. This inflates the count of venues."
   ]
  },
  {
   "cell_type": "markdown",
   "metadata": {},
   "source": [
    "### C. For each author, construct the list of publications. Plot a histogram of the number of publications per author (use a logarithmic scale on the y axis)"
   ]
  },
  {
   "cell_type": "code",
   "execution_count": 46,
   "metadata": {},
   "outputs": [
    {
     "data": {
      "image/png": "[encoded data removed]",
      "text/plain": [
       "<Figure size 720x720 with 1 Axes>"
      ]
     },
     "metadata": {
      "needs_background": "light"
     },
     "output_type": "display_data"
    }
   ],
   "source": [
    "auth_pubs = {}\n",
    "with open(\"./acm.v9/acm.txt\",\"r+\",newline='',encoding=\"utf8\") as file:\n",
    "    for line in file:\n",
    "        if(line.startswith(\"#@\")):\n",
    "            for auth in line[2:].split(\";\"):\n",
    "                if auth_pubs.get(auth.strip()) == None:\n",
    "                    auth_pubs[auth.strip()] =1 \n",
    "                else:\n",
    "                    auth_pubs[auth.strip()] += 1\n",
    "authors = list(auth_pubs.keys())\n",
    "publications = list(auth_pubs.values())\n",
    "emptyAuthors = authors.index('')\n",
    "\n",
    "del authors[emptyAuthors]\n",
    "del publications[emptyAuthors]\n",
    "\n",
    "import math \n",
    "import matplotlib.mlab as mlab\n",
    "import matplotlib.pyplot as plt\n",
    "\n",
    "plt.figure(figsize=(10,10))\n",
    "plt.xlabel('Authors')\n",
    "plt.ylabel('No. of publications')\n",
    "n, bins, _ = plt.hist(publications, bins =50, log = True, )\n",
    "plt.show()"
   ]
  },
  {
   "cell_type": "markdown",
   "metadata": {},
   "source": [
    "### D. Calculate the mean and standard deviation of the number of publications per author. Also calculate the Q1 (1st quartile14), Q2 (2nd quartile, or median) and Q3 (3rd quartile) values."
   ]
  },
  {
   "cell_type": "code",
   "execution_count": 43,
   "metadata": {},
   "outputs": [
    {
     "name": "stdout",
     "output_type": "stream",
     "text": [
      "Mean: 1.3374917079969635\n",
      "Standard Deviation: 2.8744565757272094\n",
      "1st Quartile: 1.0\n",
      "Median: 1.0\n",
      "3rd Quartile: 1.0\n"
     ]
    }
   ],
   "source": [
    "import numpy as np\n",
    "print(\"Mean:\",np.mean(publications))\n",
    "print(\"Standard Deviation:\",np.std(publications))\n",
    "print(\"1st Quartile:\",np.percentile(publications,25))\n",
    "print(\"Median:\",np.percentile(publications,50))\n",
    "print(\"3rd Quartile:\",np.percentile(publications,75))"
   ]
  },
  {
   "cell_type": "markdown",
   "metadata": {},
   "source": [
    "Most of the authors have 1 publication, as the mean, 1st "
   ]
  }
 ],
 "metadata": {
  "kernelspec": {
   "display_name": "Python 3.9.7 ('base')",
   "language": "python",
   "name": "python3"
  },
  "language_info": {
   "codemirror_mode": {
    "name": "ipython",
    "version": 3
   },
   "file_extension": ".py",
   "mimetype": "text/x-python",
   "name": "python",
   "nbconvert_exporter": "python",
   "pygments_lexer": "ipython3",
   "version": "3.9.7"
  },
  "orig_nbformat": 4,
  "vscode": {
   "interpreter": {
    "hash": "3d4eb11fac9cf291b39801ebb734a45706f1f13da681d0eead6efaf5f40102b2"
   }
  }
 },
 "nbformat": 4,
 "nbformat_minor": 2
}
